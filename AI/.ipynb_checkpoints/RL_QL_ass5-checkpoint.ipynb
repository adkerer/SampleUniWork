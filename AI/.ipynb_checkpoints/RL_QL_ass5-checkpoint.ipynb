{
 "cells": [
  {
   "cell_type": "code",
   "execution_count": null,
   "metadata": {
    "_cell_guid": "b1076dfc-b9ad-4769-8c92-a6c4dae69d19",
    "_uuid": "8f2839f25d086af736a60e9eeb907d3b93b6e0e5"
   },
   "outputs": [],
   "source": [
    "import numpy as np \n",
    "import pandas as pd \n",
    "\n",
    "# Input data files are available in the read-only \"../input/\" directory\n",
    "# For example, running this (by clicking run or pressing Shift+Enter) will list all files under the input directory\n",
    "\n",
    "#import os\n",
    "#for dirname, _, filenames in os.walk('/kaggle/input'):\n",
    "#    for filename in filenames:\n",
    "#        print(os.path.join(dirname, filename))\n",
    "\n"
   ]
  },
  {
   "cell_type": "code",
   "execution_count": 2,
   "metadata": {
    "_cell_guid": "79c7e3d0-c299-4dcb-8224-4455121ee9b0",
    "_uuid": "d629ff2d2480ee46fbb7e2d37f6b5fab8052498a"
   },
   "outputs": [
    {
     "name": "stdout",
     "output_type": "stream",
     "text": [
      "Collecting cmake\n",
      "  Downloading cmake-3.18.4.post1-py3-none-macosx_10_6_x86_64.whl (42.8 MB)\n",
      "\u001b[K     |████████████████████████████████| 42.8 MB 36.2 MB/s eta 0:00:01\n",
      "\u001b[?25hCollecting gym[atari]\n",
      "  Downloading gym-0.18.0.tar.gz (1.6 MB)\n",
      "\u001b[K     |████████████████████████████████| 1.6 MB 16.3 MB/s eta 0:00:01\n",
      "\u001b[?25hRequirement already satisfied: scipy in /opt/anaconda3/lib/python3.7/site-packages (1.6.1)\n",
      "Requirement already satisfied: numpy>=1.10.4 in /opt/anaconda3/lib/python3.7/site-packages (from gym[atari]) (1.19.2)\n",
      "Collecting pyglet<=1.5.0,>=1.4.0\n",
      "  Downloading pyglet-1.5.0-py2.py3-none-any.whl (1.0 MB)\n",
      "\u001b[K     |████████████████████████████████| 1.0 MB 8.4 MB/s eta 0:00:01\n",
      "\u001b[?25hCollecting Pillow<=7.2.0\n",
      "  Downloading Pillow-7.2.0-cp37-cp37m-macosx_10_10_x86_64.whl (2.2 MB)\n",
      "\u001b[K     |████████████████████████████████| 2.2 MB 11.9 MB/s eta 0:00:01\n",
      "\u001b[?25hRequirement already satisfied: cloudpickle<1.7.0,>=1.2.0 in /opt/anaconda3/lib/python3.7/site-packages (from gym[atari]) (1.6.0)\n",
      "Collecting atari_py~=0.2.0\n",
      "  Downloading atari_py-0.2.6-cp37-cp37m-macosx_10_6_intel.macosx_10_9_intel.macosx_10_9_x86_64.macosx_10_10_intel.macosx_10_10_x86_64.whl (3.5 MB)\n",
      "\u001b[K     |████████████████████████████████| 3.5 MB 11.0 MB/s eta 0:00:01\n",
      "\u001b[?25hCollecting opencv-python>=3.\n",
      "  Downloading opencv_python-4.5.1.48-cp37-cp37m-macosx_10_13_x86_64.whl (40.3 MB)\n",
      "\u001b[K     |████████████████████████████████| 40.3 MB 13.0 MB/s eta 0:00:01\n",
      "\u001b[?25hRequirement already satisfied: six in /opt/anaconda3/lib/python3.7/site-packages (from atari_py~=0.2.0->gym[atari]) (1.15.0)\n",
      "Requirement already satisfied: future in /opt/anaconda3/lib/python3.7/site-packages (from pyglet<=1.5.0,>=1.4.0->gym[atari]) (0.18.2)\n",
      "Building wheels for collected packages: gym\n",
      "  Building wheel for gym (setup.py) ... \u001b[?25ldone\n",
      "\u001b[?25h  Created wheel for gym: filename=gym-0.18.0-py3-none-any.whl size=1656448 sha256=ab0eb836e62d59422b4ec6d01f839305b5b718097adbe1ce0bc3410e0a33df27\n",
      "  Stored in directory: /Users/adameriksson/Library/Caches/pip/wheels/99/f7/e3/d6f0f120ac047c1e5de2ae34930e7bf6e8de1c7a4d5fa68555\n",
      "Successfully built gym\n",
      "Installing collected packages: pyglet, Pillow, opencv-python, gym, atari-py, cmake\n",
      "  Attempting uninstall: Pillow\n",
      "    Found existing installation: Pillow 8.1.2\n",
      "    Uninstalling Pillow-8.1.2:\n",
      "      Successfully uninstalled Pillow-8.1.2\n",
      "Successfully installed Pillow-7.2.0 atari-py-0.2.6 cmake-3.18.4.post1 gym-0.18.0 opencv-python-4.5.1.48 pyglet-1.5.0\n"
     ]
    }
   ],
   "source": [
    "!pip install cmake 'gym[atari]' scipy "
   ]
  },
  {
   "cell_type": "markdown",
   "metadata": {},
   "source": [
    "# Imports"
   ]
  },
  {
   "cell_type": "code",
   "execution_count": 3,
   "metadata": {},
   "outputs": [],
   "source": [
    "import gym\n",
    "import numpy as np\n",
    "import random"
   ]
  },
  {
   "cell_type": "markdown",
   "metadata": {},
   "source": [
    "# Hyperparameters"
   ]
  },
  {
   "cell_type": "code",
   "execution_count": 4,
   "metadata": {},
   "outputs": [],
   "source": [
    "#Q learning hyperparameters used\n",
    "alpha = 0.1\n",
    "epsilon = 0.1\n",
    "gamma = 0.6"
   ]
  },
  {
   "cell_type": "markdown",
   "metadata": {},
   "source": [
    "# One game function"
   ]
  },
  {
   "cell_type": "code",
   "execution_count": null,
   "metadata": {},
   "outputs": [],
   "source": [
    "def run_game():\n",
    "    #reset environment and get new state\n",
    "    penalties = 0\n",
    "    steps = 0\n",
    "    env.reset()\n",
    "    game_finished = False\n",
    "    \n",
    "    moves = 0\n",
    "    really_bad_moves = 0\n",
    "    while(not game_finished):\n",
    "        s = env.s #intial state index\n",
    "\n",
    "        if random.uniform(0, 1) < epsilon:\n",
    "            #explore\n",
    "            a = int(random.uniform(0,6)) #choose random action\n",
    "            reward = env.P[s][a][0][2] \n",
    "            next_s = env.P[s][a][0][1] #state from action a taken at state s\n",
    "            random_next_action = int(random.uniform(0,6))\n",
    "            #q_table[s,a] = (1-alpha)*q_table[s,a] + alpha*(reward+gamma*q_table[next_s,random_next_action])\n",
    "            #q_table[s,a] = (1-alpha)*q_table[s,a] + alpha*(reward+gamma*return_max_rand(next_s,explore=True))\n",
    "        else:\n",
    "            #exploit  \n",
    "            a = np.argmax(q_table[s,:])\n",
    "            reward = env.P[s][a][0][2]\n",
    "            next_s = env.P[s][a][0][1]\n",
    "        q_table[s,a] = (1-alpha)*q_table[s,a] + alpha*(reward+gamma*np.max(q_table[next_s,:]))\n",
    "        #print(env.s)\n",
    "        env.s = next_s\n",
    "        #evaluation\n",
    "        moves +=1\n",
    "        if(reward == -10): \n",
    "            really_bad_moves +=1\n",
    "        game_finished = env.P[s][a][0][3]\n",
    "        #print(env.s)\n",
    "        #env.render()\n",
    "        #print(q_table[env.s,:])\n",
    "    return (moves,really_bad_moves)"
   ]
  },
  {
   "cell_type": "markdown",
   "metadata": {},
   "source": [
    "# Run 1,000,000 games"
   ]
  },
  {
   "cell_type": "code",
   "execution_count": null,
   "metadata": {},
   "outputs": [],
   "source": [
    "env = gym.make(\"Taxi-v3\").env\n",
    "\n",
    "#env.reset() # reset environment to a new, random state\n",
    "#env.render()\n",
    "\n",
    "q_table = np.zeros([env.observation_space.n, env.action_space.n])\n",
    "total_moves = 0\n",
    "total_really_bad_moves = 0 \n",
    "for i in range(0,1000000):\n",
    "    #learning_rate = learning_rate/(i+1)\n",
    "    (moves, really_bad_moves) = run_game()\n",
    "    total_moves += moves\n",
    "    total_really_bad_moves += really_bad_moves\n",
    "    check_every = 50000\n",
    "    if(i != 0 and i%check_every==0):\n",
    "        #print(total_moves, total_really_bad_moves)\n",
    "        print(\"Index: \", i, \". Avg. really bad moves: \", total_really_bad_moves/check_every, \"Avg. amount of moves per game: \", total_moves/check_every)\n",
    "        total_moves = 0\n",
    "        total_really_bad_moves = 0"
   ]
  },
  {
   "cell_type": "code",
   "execution_count": null,
   "metadata": {},
   "outputs": [],
   "source": [
    "#visualize one game\n",
    "env.reset()\n",
    "game_finished = False\n",
    "while(not game_finished):\n",
    "    s = env.s #intial state index\n",
    "    a = np.argmax(q_table[s,:])\n",
    "    reward = env.P[s][a][0][2]\n",
    "    next_s = env.P[s][a][0][1]\n",
    "    q_table[s,a] = (1-alpha)*q_table[s,a] + alpha*(reward+gamma*np.max(q_table[next_s,:]))\n",
    "    env.s = next_s\n",
    "    env.render()\n",
    "    game_finished = env.P[s][a][0][3]\n",
    "    #print(env.s)\n",
    "    \n",
    "#summarize 50 games\n",
    "games = 200\n",
    "total_moves = 0\n",
    "really_bad_moves = 0\n",
    "\n",
    "\n",
    "for i in range(0,games):\n",
    "    moves = 0\n",
    "    env.reset()\n",
    "    game_finished = False\n",
    "    while(not game_finished):\n",
    "        s = env.s #intial state index\n",
    "        a = np.argmax(q_table[s,:])\n",
    "        reward = env.P[s][a][0][2]\n",
    "        next_s = env.P[s][a][0][1]\n",
    "        q_table[s,a] = (1-alpha)*q_table[s,a] + alpha*(reward+gamma*np.max(q_table[next_s,:]))\n",
    "        env.s = next_s\n",
    "        game_finished = env.P[s][a][0][3]\n",
    "        \n",
    "        total_moves += 1\n",
    "        if(reward == -10):\n",
    "            really_bad_moves += 1\n",
    "    \n",
    "\n",
    "print(\"Really bad moves: \", really_bad_moves/games)\n",
    "print(\"Average amount of moves per game: \", total_moves/games)"
   ]
  },
  {
   "cell_type": "code",
   "execution_count": null,
   "metadata": {},
   "outputs": [],
   "source": [
    "flattened_q_table = q_table.ravel()\n",
    "print(len(flattened_q_table))\n",
    "data = {'Id':range(1,len(flattened_q_table)+1), 'Value':flattened_q_table}\n",
    "q_table_df = pd.DataFrame(data)\n",
    "q_table_df.to_csv(\"q_table_group_63.csv\",index=False)"
   ]
  }
 ],
 "metadata": {
  "kernelspec": {
   "display_name": "Python 3",
   "language": "python",
   "name": "python3"
  },
  "language_info": {
   "codemirror_mode": {
    "name": "ipython",
    "version": 3
   },
   "file_extension": ".py",
   "mimetype": "text/x-python",
   "name": "python",
   "nbconvert_exporter": "python",
   "pygments_lexer": "ipython3",
   "version": "3.7.4"
  }
 },
 "nbformat": 4,
 "nbformat_minor": 4
}
